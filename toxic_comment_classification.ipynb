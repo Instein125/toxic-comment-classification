{
  "nbformat": 4,
  "nbformat_minor": 0,
  "metadata": {
    "colab": {
      "provenance": [],
      "gpuType": "T4"
    },
    "kernelspec": {
      "name": "python3",
      "display_name": "Python 3"
    },
    "language_info": {
      "name": "python"
    },
    "accelerator": "GPU"
  },
  "cells": [
    {
      "cell_type": "code",
      "source": [
        "from google.colab import drive\n",
        "drive.mount('/content/drive')"
      ],
      "metadata": {
        "colab": {
          "base_uri": "https://localhost:8080/"
        },
        "id": "JDjExgxmpBOy",
        "outputId": "7a1dc5c8-fa0b-4c28-f02e-ab1362a6b0ac"
      },
      "execution_count": 1,
      "outputs": [
        {
          "output_type": "stream",
          "name": "stdout",
          "text": [
            "Mounted at /content/drive\n"
          ]
        }
      ]
    },
    {
      "cell_type": "code",
      "source": [
        "import numpy as np\n",
        "import os\n",
        "import pandas as pd\n",
        "import tensorflow as tf"
      ],
      "metadata": {
        "id": "lYosSMT4pCSs"
      },
      "execution_count": 2,
      "outputs": []
    },
    {
      "cell_type": "code",
      "source": [
        "!pip install mlflow"
      ],
      "metadata": {
        "id": "liQWAByJruuz"
      },
      "execution_count": null,
      "outputs": []
    },
    {
      "cell_type": "code",
      "source": [
        "!databricks configure --host https://community.cloud.databricks.com/\n",
        "import mlflow\n",
        "mlflow.set_tracking_uri(\"databricks\")\n",
        "mlflow.set_experiment(\"/Users/desmondstha125@gmail.com/toxic_comment_classification\")"
      ],
      "metadata": {
        "colab": {
          "base_uri": "https://localhost:8080/"
        },
        "id": "DnWNjIX-smv7",
        "outputId": "93747f4f-5c2d-4071-aa2e-21880c945d75"
      },
      "execution_count": 5,
      "outputs": [
        {
          "output_type": "stream",
          "name": "stdout",
          "text": [
            "Username: desmondstha125@gmail.com\n",
            "Password: \n",
            "Repeat for confirmation: \n"
          ]
        },
        {
          "output_type": "execute_result",
          "data": {
            "text/plain": [
              "<Experiment: artifact_location='dbfs:/databricks/mlflow-tracking/287377935647537', creation_time=1690735613793, experiment_id='287377935647537', last_update_time=1690739821842, lifecycle_stage='active', name='/Users/desmondstha125@gmail.com/toxic_comment_classification', tags={'mlflow.experiment.sourceName': '/Users/desmondstha125@gmail.com/toxic_comment_classification',\n",
              " 'mlflow.experimentType': 'MLFLOW_EXPERIMENT',\n",
              " 'mlflow.ownerEmail': 'desmondstha125@gmail.com',\n",
              " 'mlflow.ownerId': '6902679042209660'}>"
            ]
          },
          "metadata": {},
          "execution_count": 5
        }
      ]
    },
    {
      "cell_type": "markdown",
      "source": [
        "Loading data from drive"
      ],
      "metadata": {
        "id": "H1CbZQgIp8W4"
      }
    },
    {
      "cell_type": "code",
      "source": [
        "train = pd.read_csv(\"/content/drive/MyDrive/Colab Notebooks/jigsaw-toxic-comment-classification-challenge/train.csv/train.csv\")\n",
        "testText = pd.read_csv('/content/drive/MyDrive/Colab Notebooks/jigsaw-toxic-comment-classification-challenge/test.csv/test.csv')\n",
        "testLevel = pd.read_csv(\"/content/drive/MyDrive/Colab Notebooks/jigsaw-toxic-comment-classification-challenge/test_labels.csv/test_labels.csv\")"
      ],
      "metadata": {
        "id": "La9lVx78p7t5"
      },
      "execution_count": 6,
      "outputs": []
    },
    {
      "cell_type": "code",
      "source": [
        "print(\"Shape of train data: \", train.shape)\n",
        "print(\"Shape of test data: \", testText.shape)"
      ],
      "metadata": {
        "colab": {
          "base_uri": "https://localhost:8080/"
        },
        "id": "J4H4q_DYqKKO",
        "outputId": "eb13ef0e-7875-4cca-e36a-5c9033073658"
      },
      "execution_count": null,
      "outputs": [
        {
          "output_type": "stream",
          "name": "stdout",
          "text": [
            "Shape of train data:  (159571, 8)\n",
            "Shape of test data:  (153164, 2)\n"
          ]
        }
      ]
    },
    {
      "cell_type": "code",
      "source": [
        "testText.head()"
      ],
      "metadata": {
        "id": "6dGMUrery1qo"
      },
      "execution_count": null,
      "outputs": []
    },
    {
      "cell_type": "code",
      "source": [
        "testLevel.head()"
      ],
      "metadata": {
        "id": "Bkufdc_7y5C8"
      },
      "execution_count": null,
      "outputs": []
    },
    {
      "cell_type": "code",
      "source": [
        "test = pd.merge(testText,testLevel, on='id')\n",
        "test = test[test['toxic']!=-1]\n",
        "test.head()"
      ],
      "metadata": {
        "id": "JJdkUkupGuf4"
      },
      "execution_count": null,
      "outputs": []
    },
    {
      "cell_type": "code",
      "source": [
        "train.describe()"
      ],
      "metadata": {
        "id": "oAgz98r3y8Xa"
      },
      "execution_count": null,
      "outputs": []
    },
    {
      "cell_type": "markdown",
      "source": [
        "Visualzing the data"
      ],
      "metadata": {
        "id": "eplRCVuH0lim"
      }
    },
    {
      "cell_type": "code",
      "source": [
        "import seaborn as sns\n",
        "import matplotlib.pyplot as plt\n",
        "\n",
        "# sns.set(color_codes=True)\n",
        "comment_len = train.comment_text.str.len()\n",
        "sns.distplot(comment_len,kde=False, color=\"blue\")\n",
        "plt.xlim(0, 2500)\n",
        "\n",
        "plt.xlabel('Comment Length')\n",
        "\n",
        "# Display the plot\n",
        "plt.show()"
      ],
      "metadata": {
        "colab": {
          "base_uri": "https://localhost:8080/",
          "height": 640
        },
        "id": "12huC9vH0k1R",
        "outputId": "a4bbb8b4-cd9e-43ed-f570-c6136d8fd5a1"
      },
      "execution_count": null,
      "outputs": [
        {
          "output_type": "stream",
          "name": "stderr",
          "text": [
            "<ipython-input-5-b8bd4b0944ea>:6: UserWarning: \n",
            "\n",
            "`distplot` is a deprecated function and will be removed in seaborn v0.14.0.\n",
            "\n",
            "Please adapt your code to use either `displot` (a figure-level function with\n",
            "similar flexibility) or `histplot` (an axes-level function for histograms).\n",
            "\n",
            "For a guide to updating your code to use the new functions, please see\n",
            "https://gist.github.com/mwaskom/de44147ed2974457ad6372750bbe5751\n",
            "\n",
            "  sns.distplot(comment_len,kde=False, color=\"blue\")\n"
          ]
        },
        {
          "output_type": "display_data",
          "data": {
            "text/plain": [
              "<Figure size 640x480 with 1 Axes>"
            ],
            "image/png": "[encoded data removed]"
          },
          "metadata": {}
        }
      ]
    },
    {
      "cell_type": "markdown",
      "source": [
        "We can see most of the comments have short length and very few have length grater than 1000"
      ],
      "metadata": {
        "id": "Eaz5r7PG1Bje"
      }
    },
    {
      "cell_type": "markdown",
      "source": [
        "Plotting the correlational matrix"
      ],
      "metadata": {
        "id": "UtYiQxks6cV3"
      }
    },
    {
      "cell_type": "code",
      "source": [
        "rowsums = train.iloc[:, 2:8].sum(axis=1)\n",
        "temp = train.iloc[:, 2:8]\n",
        "train_corr = temp[rowsums > 0]\n",
        "corr = train_corr.corr()\n",
        "plt.figure(figsize=(10, 8))\n",
        "sns.heatmap(corr,\n",
        "            xticklabels=corr.columns.values,\n",
        "            yticklabels=corr.columns.values, annot=True, cmap=\"Blues\")"
      ],
      "metadata": {
        "colab": {
          "base_uri": "https://localhost:8080/",
          "height": 592
        },
        "id": "I3IYNJmF6gMe",
        "outputId": "f6cd5add-5879-4bd9-c9e4-220782a7a079"
      },
      "execution_count": null,
      "outputs": [
        {
          "output_type": "execute_result",
          "data": {
            "text/plain": [
              "<Axes: >"
            ]
          },
          "metadata": {},
          "execution_count": 46
        },
        {
          "output_type": "display_data",
          "data": {
            "text/plain": [
              "<Figure size 1000x800 with 2 Axes>"
            ],
            "image/png": "[encoded data removed]"
          },
          "metadata": {}
        }
      ]
    },
    {
      "cell_type": "markdown",
      "source": [
        "The highest levels of correlation can\n",
        "be observed between the obscene and toxic"
      ],
      "metadata": {
        "id": "arCqIXTj69GN"
      }
    },
    {
      "cell_type": "markdown",
      "source": [
        "Preprocessing the data"
      ],
      "metadata": {
        "id": "XjU-JKc-0dNL"
      }
    },
    {
      "cell_type": "markdown",
      "source": [
        "\n",
        "\n",
        "1.   Removing Characters in between Text.\n",
        "2. Removing Repeated Characters.\n",
        "\n",
        "1.   Converting data to lower-case.\n",
        "2.   Removing Punctuation.\n",
        "3.   Removing unnecessary white spaces in between words.\n",
        "2.   Removing “\\n”.\n",
        "3. Removing Non-English characters.\n",
        "\n",
        "\n",
        "\n"
      ],
      "metadata": {
        "id": "YXxAbL2r2MB1"
      }
    },
    {
      "cell_type": "code",
      "source": [
        "import re\n",
        "\n",
        "def clean_text(text,remove_repeat_text=True, is_lower=True):\n",
        "\n",
        "  if is_lower:\n",
        "    text=text.lower()\n",
        "\n",
        "  if remove_repeat_text:\n",
        "    text = re.sub(r'(.)\\1{2,}', r'\\1', text)  #removes repeated characters.\n",
        "    # uses regular expressions (re) to find consecutive occurrences of a character\n",
        "    # and replaces them with a single instance of that character.\n",
        "    # For example, it replaces \"loooove\" with \"love\" by reducing consecutive repeated characters to a single occurrence\n",
        "\n",
        "  text = str(text).replace(\"\\n\", \" \") #replaces newline characters (\\n) with a space character\n",
        "  text = re.sub(r'[^\\w\\s]',' ',text) #substitute any non-alphanumeric and non-whitespace characters with a space character.\n",
        "  text = re.sub('[0-9]',\"\",text) #remove any numeric digits from the text\n",
        "  text = re.sub(\" +\", \" \", text) #replace multiple consecutive spaces with a single space\n",
        "  text = re.sub(\"([^\\x00-\\x7F])+\",\" \",text) #remove any non-ASCII characters from the text\n",
        "  return text\n",
        "\n",
        "train['comment_text'] = train['comment_text'].apply(clean_text)\n",
        "test['comment_text'] = test['comment_text'].apply(clean_text)"
      ],
      "metadata": {
        "id": "01aJFkU2z8Vx"
      },
      "execution_count": 8,
      "outputs": []
    },
    {
      "cell_type": "markdown",
      "source": [
        "Removing Stopwords using NLTK stopwords"
      ],
      "metadata": {
        "id": "UlA63MzN6Bg7"
      }
    },
    {
      "cell_type": "code",
      "source": [
        "import nltk\n",
        "from nltk.corpus import stopwords\n",
        "\n",
        "nltk.download('stopwords')\n",
        "print(stopwords.words('english'))\n",
        "\n",
        "stop_words = set(stopwords.words('english'))\n",
        "\n",
        "def remove_stopwords(text, remove_stop=True):\n",
        "  output = \"\"\n",
        "  if remove_stop:\n",
        "    text=text.split(\" \")\n",
        "    for word in text:\n",
        "      if word not in stop_words:\n",
        "        output=output + \" \" + word\n",
        "  else :\n",
        "    output=text\n",
        "\n",
        "  return str(output.strip())\n",
        "\n",
        "#Removing Stopwords from Training Data\n",
        "processed_train_data = []\n",
        "for line in train[\"comment_text\"]:\n",
        "    processed_train_data.append(remove_stopwords(line))\n",
        "\n",
        "#Removing Stopwords from Test Data\n",
        "processed_test_data = []\n",
        "for line in test[\"comment_text\"]:\n",
        "    processed_test_data.append(remove_stopwords(line))"
      ],
      "metadata": {
        "colab": {
          "base_uri": "https://localhost:8080/"
        },
        "id": "UHtwmtRs6Z6e",
        "outputId": "0745ada6-04ff-48db-ccd4-8357502752f3"
      },
      "execution_count": 11,
      "outputs": [
        {
          "output_type": "stream",
          "name": "stdout",
          "text": [
            "['i', 'me', 'my', 'myself', 'we', 'our', 'ours', 'ourselves', 'you', \"you're\", \"you've\", \"you'll\", \"you'd\", 'your', 'yours', 'yourself', 'yourselves', 'he', 'him', 'his', 'himself', 'she', \"she's\", 'her', 'hers', 'herself', 'it', \"it's\", 'its', 'itself', 'they', 'them', 'their', 'theirs', 'themselves', 'what', 'which', 'who', 'whom', 'this', 'that', \"that'll\", 'these', 'those', 'am', 'is', 'are', 'was', 'were', 'be', 'been', 'being', 'have', 'has', 'had', 'having', 'do', 'does', 'did', 'doing', 'a', 'an', 'the', 'and', 'but', 'if', 'or', 'because', 'as', 'until', 'while', 'of', 'at', 'by', 'for', 'with', 'about', 'against', 'between', 'into', 'through', 'during', 'before', 'after', 'above', 'below', 'to', 'from', 'up', 'down', 'in', 'out', 'on', 'off', 'over', 'under', 'again', 'further', 'then', 'once', 'here', 'there', 'when', 'where', 'why', 'how', 'all', 'any', 'both', 'each', 'few', 'more', 'most', 'other', 'some', 'such', 'no', 'nor', 'not', 'only', 'own', 'same', 'so', 'than', 'too', 'very', 's', 't', 'can', 'will', 'just', 'don', \"don't\", 'should', \"should've\", 'now', 'd', 'll', 'm', 'o', 're', 've', 'y', 'ain', 'aren', \"aren't\", 'couldn', \"couldn't\", 'didn', \"didn't\", 'doesn', \"doesn't\", 'hadn', \"hadn't\", 'hasn', \"hasn't\", 'haven', \"haven't\", 'isn', \"isn't\", 'ma', 'mightn', \"mightn't\", 'mustn', \"mustn't\", 'needn', \"needn't\", 'shan', \"shan't\", 'shouldn', \"shouldn't\", 'wasn', \"wasn't\", 'weren', \"weren't\", 'won', \"won't\", 'wouldn', \"wouldn't\"]\n"
          ]
        },
        {
          "output_type": "stream",
          "name": "stderr",
          "text": [
            "[nltk_data] Downloading package stopwords to /root/nltk_data...\n",
            "[nltk_data]   Unzipping corpora/stopwords.zip.\n"
          ]
        }
      ]
    },
    {
      "cell_type": "code",
      "source": [
        "train[\"comment_text\"] = processed_train_data\n",
        "test[\"comment_text\"] = processed_test_data\n",
        "train.head()"
      ],
      "metadata": {
        "colab": {
          "base_uri": "https://localhost:8080/",
          "height": 206
        },
        "id": "KIMIZ6-49GV1",
        "outputId": "3a851067-c7e8-468f-d35a-52abc1c12f81"
      },
      "execution_count": 13,
      "outputs": [
        {
          "output_type": "execute_result",
          "data": {
            "text/plain": [
              "                 id                                       comment_text  toxic  \\\n",
              "0  0000997932d777bf  explanation edits made username hardcore metal...      0   \n",
              "1  000103f0d9cfb60f  aww matches background colour seemingly stuck ...      0   \n",
              "2  000113f07ec002fd  hey man really trying edit war guy constantly ...      0   \n",
              "3  0001b41b1c6bb37e  make real suggestions improvement wondered sec...      0   \n",
              "4  0001d958c54c6e35                      sir hero chance remember page      0   \n",
              "\n",
              "   severe_toxic  obscene  threat  insult  identity_hate  \n",
              "0             0        0       0       0              0  \n",
              "1             0        0       0       0              0  \n",
              "2             0        0       0       0              0  \n",
              "3             0        0       0       0              0  \n",
              "4             0        0       0       0              0  "
            ],
            "text/html": [
              "\n",
              "\n",
              "  <div id=\"df-de9288da-9382-4cd3-9f0e-6596e95cf6e7\">\n",
              "    <div class=\"colab-df-container\">\n",
              "      <div>\n",
              "<style scoped>\n",
              "    .dataframe tbody tr th:only-of-type {\n",
              "        vertical-align: middle;\n",
              "    }\n",
              "\n",
              "    .dataframe tbody tr th {\n",
              "        vertical-align: top;\n",
              "    }\n",
              "\n",
              "    .dataframe thead th {\n",
              "        text-align: right;\n",
              "    }\n",
              "</style>\n",
              "<table border=\"1\" class=\"dataframe\">\n",
              "  <thead>\n",
              "    <tr style=\"text-align: right;\">\n",
              "      <th></th>\n",
              "      <th>id</th>\n",
              "      <th>comment_text</th>\n",
              "      <th>toxic</th>\n",
              "      <th>severe_toxic</th>\n",
              "      <th>obscene</th>\n",
              "      <th>threat</th>\n",
              "      <th>insult</th>\n",
              "      <th>identity_hate</th>\n",
              "    </tr>\n",
              "  </thead>\n",
              "  <tbody>\n",
              "    <tr>\n",
              "      <th>0</th>\n",
              "      <td>0000997932d777bf</td>\n",
              "      <td>explanation edits made username hardcore metal...</td>\n",
              "      <td>0</td>\n",
              "      <td>0</td>\n",
              "      <td>0</td>\n",
              "      <td>0</td>\n",
              "      <td>0</td>\n",
              "      <td>0</td>\n",
              "    </tr>\n",
              "    <tr>\n",
              "      <th>1</th>\n",
              "      <td>000103f0d9cfb60f</td>\n",
              "      <td>aww matches background colour seemingly stuck ...</td>\n",
              "      <td>0</td>\n",
              "      <td>0</td>\n",
              "      <td>0</td>\n",
              "      <td>0</td>\n",
              "      <td>0</td>\n",
              "      <td>0</td>\n",
              "    </tr>\n",
              "    <tr>\n",
              "      <th>2</th>\n",
              "      <td>000113f07ec002fd</td>\n",
              "      <td>hey man really trying edit war guy constantly ...</td>\n",
              "      <td>0</td>\n",
              "      <td>0</td>\n",
              "      <td>0</td>\n",
              "      <td>0</td>\n",
              "      <td>0</td>\n",
              "      <td>0</td>\n",
              "    </tr>\n",
              "    <tr>\n",
              "      <th>3</th>\n",
              "      <td>0001b41b1c6bb37e</td>\n",
              "      <td>make real suggestions improvement wondered sec...</td>\n",
              "      <td>0</td>\n",
              "      <td>0</td>\n",
              "      <td>0</td>\n",
              "      <td>0</td>\n",
              "      <td>0</td>\n",
              "      <td>0</td>\n",
              "    </tr>\n",
              "    <tr>\n",
              "      <th>4</th>\n",
              "      <td>0001d958c54c6e35</td>\n",
              "      <td>sir hero chance remember page</td>\n",
              "      <td>0</td>\n",
              "      <td>0</td>\n",
              "      <td>0</td>\n",
              "      <td>0</td>\n",
              "      <td>0</td>\n",
              "      <td>0</td>\n",
              "    </tr>\n",
              "  </tbody>\n",
              "</table>\n",
              "</div>\n",
              "      <button class=\"colab-df-convert\" onclick=\"convertToInteractive('df-de9288da-9382-4cd3-9f0e-6596e95cf6e7')\"\n",
              "              title=\"Convert this dataframe to an interactive table.\"\n",
              "              style=\"display:none;\">\n",
              "\n",
              "  <svg xmlns=\"http://www.w3.org/2000/svg\" height=\"24px\"viewBox=\"0 0 24 24\"\n",
              "       width=\"24px\">\n",
              "    <path d=\"M0 0h24v24H0V0z\" fill=\"none\"/>\n",
              "    <path d=\"M18.56 5.44l.94 2.06.94-2.06 2.06-.94-2.06-.94-.94-2.06-.94 2.06-2.06.94zm-11 1L8.5 8.5l.94-2.06 2.06-.94-2.06-.94L8.5 2.5l-.94 2.06-2.06.94zm10 10l.94 2.06.94-2.06 2.06-.94-2.06-.94-.94-2.06-.94 2.06-2.06.94z\"/><path d=\"M17.41 7.96l-1.37-1.37c-.4-.4-.92-.59-1.43-.59-.52 0-1.04.2-1.43.59L10.3 9.45l-7.72 7.72c-.78.78-.78 2.05 0 2.83L4 21.41c.39.39.9.59 1.41.59.51 0 1.02-.2 1.41-.59l7.78-7.78 2.81-2.81c.8-.78.8-2.07 0-2.86zM5.41 20L4 18.59l7.72-7.72 1.47 1.35L5.41 20z\"/>\n",
              "  </svg>\n",
              "      </button>\n",
              "\n",
              "\n",
              "\n",
              "    <div id=\"df-7940a5ee-2fc5-4b64-9807-b546aed7cc9e\">\n",
              "      <button class=\"colab-df-quickchart\" onclick=\"quickchart('df-7940a5ee-2fc5-4b64-9807-b546aed7cc9e')\"\n",
              "              title=\"Suggest charts.\"\n",
              "              style=\"display:none;\">\n",
              "\n",
              "<svg xmlns=\"http://www.w3.org/2000/svg\" height=\"24px\"viewBox=\"0 0 24 24\"\n",
              "     width=\"24px\">\n",
              "    <g>\n",
              "        <path d=\"M19 3H5c-1.1 0-2 .9-2 2v14c0 1.1.9 2 2 2h14c1.1 0 2-.9 2-2V5c0-1.1-.9-2-2-2zM9 17H7v-7h2v7zm4 0h-2V7h2v10zm4 0h-2v-4h2v4z\"/>\n",
              "    </g>\n",
              "</svg>\n",
              "      </button>\n",
              "    </div>\n",
              "\n",
              "<style>\n",
              "  .colab-df-quickchart {\n",
              "    background-color: #E8F0FE;\n",
              "    border: none;\n",
              "    border-radius: 50%;\n",
              "    cursor: pointer;\n",
              "    display: none;\n",
              "    fill: #1967D2;\n",
              "    height: 32px;\n",
              "    padding: 0 0 0 0;\n",
              "    width: 32px;\n",
              "  }\n",
              "\n",
              "  .colab-df-quickchart:hover {\n",
              "    background-color: #E2EBFA;\n",
              "    box-shadow: 0px 1px 2px rgba(60, 64, 67, 0.3), 0px 1px 3px 1px rgba(60, 64, 67, 0.15);\n",
              "    fill: #174EA6;\n",
              "  }\n",
              "\n",
              "  [theme=dark] .colab-df-quickchart {\n",
              "    background-color: #3B4455;\n",
              "    fill: #D2E3FC;\n",
              "  }\n",
              "\n",
              "  [theme=dark] .colab-df-quickchart:hover {\n",
              "    background-color: #434B5C;\n",
              "    box-shadow: 0px 1px 3px 1px rgba(0, 0, 0, 0.15);\n",
              "    filter: drop-shadow(0px 1px 2px rgba(0, 0, 0, 0.3));\n",
              "    fill: #FFFFFF;\n",
              "  }\n",
              "</style>\n",
              "\n",
              "    <script>\n",
              "      async function quickchart(key) {\n",
              "        const containerElement = document.querySelector('#' + key);\n",
              "        const charts = await google.colab.kernel.invokeFunction(\n",
              "            'suggestCharts', [key], {});\n",
              "      }\n",
              "    </script>\n",
              "\n",
              "      <script>\n",
              "\n",
              "function displayQuickchartButton(domScope) {\n",
              "  let quickchartButtonEl =\n",
              "    domScope.querySelector('#df-7940a5ee-2fc5-4b64-9807-b546aed7cc9e button.colab-df-quickchart');\n",
              "  quickchartButtonEl.style.display =\n",
              "    google.colab.kernel.accessAllowed ? 'block' : 'none';\n",
              "}\n",
              "\n",
              "        displayQuickchartButton(document);\n",
              "      </script>\n",
              "      <style>\n",
              "    .colab-df-container {\n",
              "      display:flex;\n",
              "      flex-wrap:wrap;\n",
              "      gap: 12px;\n",
              "    }\n",
              "\n",
              "    .colab-df-convert {\n",
              "      background-color: #E8F0FE;\n",
              "      border: none;\n",
              "      border-radius: 50%;\n",
              "      cursor: pointer;\n",
              "      display: none;\n",
              "      fill: #1967D2;\n",
              "      height: 32px;\n",
              "      padding: 0 0 0 0;\n",
              "      width: 32px;\n",
              "    }\n",
              "\n",
              "    .colab-df-convert:hover {\n",
              "      background-color: #E2EBFA;\n",
              "      box-shadow: 0px 1px 2px rgba(60, 64, 67, 0.3), 0px 1px 3px 1px rgba(60, 64, 67, 0.15);\n",
              "      fill: #174EA6;\n",
              "    }\n",
              "\n",
              "    [theme=dark] .colab-df-convert {\n",
              "      background-color: #3B4455;\n",
              "      fill: #D2E3FC;\n",
              "    }\n",
              "\n",
              "    [theme=dark] .colab-df-convert:hover {\n",
              "      background-color: #434B5C;\n",
              "      box-shadow: 0px 1px 3px 1px rgba(0, 0, 0, 0.15);\n",
              "      filter: drop-shadow(0px 1px 2px rgba(0, 0, 0, 0.3));\n",
              "      fill: #FFFFFF;\n",
              "    }\n",
              "  </style>\n",
              "\n",
              "      <script>\n",
              "        const buttonEl =\n",
              "          document.querySelector('#df-de9288da-9382-4cd3-9f0e-6596e95cf6e7 button.colab-df-convert');\n",
              "        buttonEl.style.display =\n",
              "          google.colab.kernel.accessAllowed ? 'block' : 'none';\n",
              "\n",
              "        async function convertToInteractive(key) {\n",
              "          const element = document.querySelector('#df-de9288da-9382-4cd3-9f0e-6596e95cf6e7');\n",
              "          const dataTable =\n",
              "            await google.colab.kernel.invokeFunction('convertToInteractive',\n",
              "                                                     [key], {});\n",
              "          if (!dataTable) return;\n",
              "\n",
              "          const docLinkHtml = 'Like what you see? Visit the ' +\n",
              "            '<a target=\"_blank\" href=https://colab.research.google.com/notebooks/data_table.ipynb>data table notebook</a>'\n",
              "            + ' to learn more about interactive tables.';\n",
              "          element.innerHTML = '';\n",
              "          dataTable['output_type'] = 'display_data';\n",
              "          await google.colab.output.renderOutput(dataTable, element);\n",
              "          const docLink = document.createElement('div');\n",
              "          docLink.innerHTML = docLinkHtml;\n",
              "          element.appendChild(docLink);\n",
              "        }\n",
              "      </script>\n",
              "    </div>\n",
              "  </div>\n"
            ]
          },
          "metadata": {},
          "execution_count": 13
        }
      ]
    },
    {
      "cell_type": "markdown",
      "source": [
        "Tokenization"
      ],
      "metadata": {
        "id": "3DrLCL03-7CK"
      }
    },
    {
      "cell_type": "code",
      "source": [
        "CATEGORIES = ['toxic', 'severe_toxic', 'obscene', 'threat', 'insult', 'identity_hate']\n",
        "\n",
        "X_train = train[\"comment_text\"]\n",
        "y_train = train[CATEGORIES].values\n",
        "X_test = test['comment_text']\n",
        "y_test = test[CATEGORIES].values\n",
        "X_train"
      ],
      "metadata": {
        "id": "9fgcbsZWE5HN",
        "colab": {
          "base_uri": "https://localhost:8080/"
        },
        "outputId": "60396761-94d7-4b1f-ca09-786b96257113"
      },
      "execution_count": 14,
      "outputs": [
        {
          "output_type": "execute_result",
          "data": {
            "text/plain": [
              "0         explanation edits made username hardcore metal...\n",
              "1         aww matches background colour seemingly stuck ...\n",
              "2         hey man really trying edit war guy constantly ...\n",
              "3         make real suggestions improvement wondered sec...\n",
              "4                             sir hero chance remember page\n",
              "                                ...                        \n",
              "159566    second time asking view completely contradicts...\n",
              "159567                 ashamed horrible thing put talk page\n",
              "159568    spitzer umm theres actual article prostitution...\n",
              "159569    looks like actually put speedy first version d...\n",
              "159570    really think understand came idea bad right aw...\n",
              "Name: comment_text, Length: 159571, dtype: object"
            ]
          },
          "metadata": {},
          "execution_count": 14
        }
      ]
    },
    {
      "cell_type": "code",
      "source": [
        "class_names = ['toxic', 'severe_toxic', 'obscene', 'threat', 'insult', 'identity_hate']\n",
        "y_train_df = pd.DataFrame(y_train, columns=class_names)\n",
        "\n",
        "for col in class_names:\n",
        "  print(y_train_df[col].value_counts())\n",
        "  print('\\n')"
      ],
      "metadata": {
        "colab": {
          "base_uri": "https://localhost:8080/"
        },
        "id": "8owv0p_7hnE3",
        "outputId": "39623180-5eea-458f-e34d-917e6dd9ae51"
      },
      "execution_count": 110,
      "outputs": [
        {
          "output_type": "stream",
          "name": "stdout",
          "text": [
            "0    144277\n",
            "1     15294\n",
            "Name: toxic, dtype: int64\n",
            "\n",
            "\n",
            "0    157976\n",
            "1      1595\n",
            "Name: severe_toxic, dtype: int64\n",
            "\n",
            "\n",
            "0    151122\n",
            "1      8449\n",
            "Name: obscene, dtype: int64\n",
            "\n",
            "\n",
            "0    159093\n",
            "1       478\n",
            "Name: threat, dtype: int64\n",
            "\n",
            "\n",
            "0    151694\n",
            "1      7877\n",
            "Name: insult, dtype: int64\n",
            "\n",
            "\n",
            "0    158166\n",
            "1      1405\n",
            "Name: identity_hate, dtype: int64\n",
            "\n",
            "\n"
          ]
        }
      ]
    },
    {
      "cell_type": "markdown",
      "source": [
        "Tokenization and Padding the sequence"
      ],
      "metadata": {
        "id": "7TZgsdpjHFw8"
      }
    },
    {
      "cell_type": "code",
      "source": [
        "from keras.preprocessing.text import Tokenizer\n",
        "from keras.utils import pad_sequences\n",
        "\n",
        "max_features=100000\n",
        "maxpadlen = 500\n",
        "\n",
        "tokenizer = Tokenizer(num_words=max_features,oov_token='<nothing>')\n",
        "tokenizer.fit_on_texts(X_train)\n",
        "\n",
        "def tokenization(data):\n",
        "  data = tokenizer.texts_to_sequences(data)\n",
        "  data=pad_sequences(data, maxlen=maxpadlen, padding = 'post')\n",
        "  return data\n",
        "\n",
        "X_train = tokenization(X_train)\n",
        "X_test = tokenization(X_test)"
      ],
      "metadata": {
        "id": "dyQEvIJC9v4t"
      },
      "execution_count": 15,
      "outputs": []
    },
    {
      "cell_type": "markdown",
      "source": [
        "Saving the toekenization"
      ],
      "metadata": {
        "id": "ngIX9t3GIRGQ"
      }
    },
    {
      "cell_type": "code",
      "source": [
        "import pickle\n",
        "\n",
        "# saving\n",
        "with open('tokenizer.pickle', 'wb') as handle:\n",
        "    pickle.dump(tokenizer, handle, protocol=pickle.HIGHEST_PROTOCOL)"
      ],
      "metadata": {
        "id": "xQz8n6wkIQgi"
      },
      "execution_count": null,
      "outputs": []
    },
    {
      "cell_type": "markdown",
      "source": [
        "Loading the toekenizer. Note: First upload it to the files"
      ],
      "metadata": {
        "id": "foqg9LFEIaYG"
      }
    },
    {
      "cell_type": "code",
      "source": [
        "# loading\n",
        "with open('tokenizer.pickle', 'rb') as handle:\n",
        "    tokenizer = pickle.load(handle)"
      ],
      "metadata": {
        "id": "Y5AaDzU2IZsN"
      },
      "execution_count": null,
      "outputs": []
    },
    {
      "cell_type": "markdown",
      "source": [
        "Initaialing the word embedding using Sentence Transformer"
      ],
      "metadata": {
        "id": "ZZrY7DnHSWcC"
      }
    },
    {
      "cell_type": "markdown",
      "source": [
        "Importing sentence transformer"
      ],
      "metadata": {
        "id": "ldJYe_BXSb71"
      }
    },
    {
      "cell_type": "code",
      "source": [
        "# !pip install sentence-transformers"
      ],
      "metadata": {
        "id": "R_zDzWaVSK3L"
      },
      "execution_count": null,
      "outputs": []
    },
    {
      "cell_type": "code",
      "source": [
        "# from sentence_transformers import SentenceTransformer\n",
        "\n",
        "# model_name = 'all-MiniLM-L6-v2'\n",
        "# sentence_transformer_model = SentenceTransformer(model_name)"
      ],
      "metadata": {
        "id": "MtNqJUhxShx0"
      },
      "execution_count": null,
      "outputs": []
    },
    {
      "cell_type": "code",
      "source": [
        "# Converting sequences back to sentences\n",
        "# sentences = tokenizer.sequences_to_texts(X_train)\n",
        "\n",
        "# Obtaining sentence embeddings using the Sentence Transformer model\n",
        "# sentence_embeddings = sentence_transformer_model.encode(sentences)"
      ],
      "metadata": {
        "id": "ac3ZKm25Th8O"
      },
      "execution_count": null,
      "outputs": []
    },
    {
      "cell_type": "markdown",
      "source": [
        "Saving the sentence_embedding in drive"
      ],
      "metadata": {
        "id": "wkA1zJJfY2pr"
      }
    },
    {
      "cell_type": "code",
      "source": [
        "# df_embeddings = pd.DataFrame(sentence_embeddings)\n",
        "# df_embeddings.to_csv('/content/drive/MyDrive/Colab Notebooks/sentence_embeddings.csv', index=False)"
      ],
      "metadata": {
        "id": "KjRJT3KZT7yM"
      },
      "execution_count": null,
      "outputs": []
    },
    {
      "cell_type": "code",
      "source": [
        "# type(sentence_embeddings)"
      ],
      "metadata": {
        "colab": {
          "base_uri": "https://localhost:8080/"
        },
        "id": "Dxv4RNKRZFFU",
        "outputId": "f635fcf1-aaa6-4afe-f1f1-133ca6031e9f"
      },
      "execution_count": null,
      "outputs": [
        {
          "output_type": "execute_result",
          "data": {
            "text/plain": [
              "numpy.ndarray"
            ]
          },
          "metadata": {},
          "execution_count": 43
        }
      ]
    },
    {
      "cell_type": "markdown",
      "source": [
        "Directly load the embedded sentences"
      ],
      "metadata": {
        "id": "mMOtRvs4aeBy"
      }
    },
    {
      "cell_type": "code",
      "source": [
        "loaded_df_embeddings = pd.read_csv('/content/drive/MyDrive/Colab Notebooks/sentence_embeddings.csv')\n",
        "sentence_embeddings = loaded_df_embeddings.values"
      ],
      "metadata": {
        "id": "DWcTorl0Z8bv"
      },
      "execution_count": 16,
      "outputs": []
    },
    {
      "cell_type": "code",
      "source": [
        "import tensorflow\n",
        "from keras.models import Model\n",
        "from keras.layers import *\n",
        "from keras.utils import plot_model"
      ],
      "metadata": {
        "id": "VMSD8qmBb6yi"
      },
      "execution_count": 17,
      "outputs": []
    },
    {
      "cell_type": "markdown",
      "source": [
        "defining function for evaluation"
      ],
      "metadata": {
        "id": "DKIanuhk3DnR"
      }
    },
    {
      "cell_type": "code",
      "source": [
        "from sklearn.metrics import accuracy_score, f1_score, recall_score, precision_score, confusion_matrix, roc_auc_score, roc_curve, precision_recall_curve\n",
        "import matplotlib.pyplot as plt\n",
        "\n",
        "def threshold_calculation(class_names, y_test_df, y_pred_df):\n",
        "  best_threshold = []\n",
        "  fig, axs = plt.subplots(2, 3, figsize=(10, 5))\n",
        "\n",
        "  for i, col in enumerate(class_names):\n",
        "    precision, recall, thresholds = precision_recall_curve(y_test_df[col], y_pred_df[col])\n",
        "    # Calculating F1-score for each threshold\n",
        "    f1_scores = 2 * (precision * recall) / (precision + recall)\n",
        "    # Find the index of the threshold that maximizes the F1-score\n",
        "    best_threshold.append(thresholds[np.argmax(f1_scores)])\n",
        "    ax = axs[i // 3, i % 3]\n",
        "    ax.plot(recall, precision, color='b', label='Precision-Recall curve')\n",
        "    ax.set_xlabel('Recall')\n",
        "    ax.set_ylabel('Precision')\n",
        "    ax.set_title(f'Precision-Recall Curve for {col}')\n",
        "    ax.legend(loc='lower left')\n",
        "\n",
        "  plt.tight_layout()\n",
        "  plt.show()\n",
        "  plt.savefig('precision_recall.png')\n",
        "\n",
        "  return best_threshold\n",
        "\n",
        "def convert_to_binary_predictions(y_pred_df, thresholds):\n",
        "    binary_predictions_df = y_pred_df.copy()\n",
        "    for i, col in enumerate(y_pred_df.columns):\n",
        "        binary_predictions_df[col] = (y_pred_df[col] >= thresholds[i]).astype(int)\n",
        "    return binary_predictions_df\n",
        "\n",
        "def overall_eval(y_test, y_pred):\n",
        "  class_names = ['toxic', 'severe_toxic', 'obscene', 'threat', 'insult', 'identity_hate']\n",
        "  y_test_df = pd.DataFrame(y_test, columns=class_names)\n",
        "  y_pred_df = pd.DataFrame(y_pred, columns=class_names)\n",
        "\n",
        "  best_threshold = threshold_calculation(class_names, y_test_df, y_pred_df)\n",
        "\n",
        "  y_pred = convert_to_binary_predictions(y_pred_df, best_threshold).to_numpy()\n",
        "\n",
        "  y_true_flat = y_test.ravel()\n",
        "  y_pred_flat = y_pred.ravel()\n",
        "  accuracy = accuracy_score(y_true_flat, y_pred_flat)\n",
        "  f1 = f1_score(y_true_flat, y_pred_flat, average='weighted')\n",
        "  recall = recall_score(y_true_flat, y_pred_flat, average='weighted')\n",
        "  precision = precision_score(y_true_flat, y_pred_flat, average='weighted')\n",
        "\n",
        "  return accuracy, f1, recall, precision\n",
        "\n",
        "from sklearn.metrics import accuracy_score, f1_score, recall_score, precision_score, confusion_matrix\n",
        "import matplotlib.pyplot as plt\n",
        "import seaborn as sns\n",
        "\n",
        "# for individuals levels\n",
        "def evaluation(prediction, actual, col):\n",
        "  accuracy = accuracy_score(actual[col], prediction[col])\n",
        "  f1 = f1_score(actual[col], prediction[col], average='weighted')\n",
        "  recall = recall_score(actual[col], prediction[col], average='weighted')\n",
        "  precision = precision_score(actual[col], prediction[col], average='weighted')\n",
        "\n",
        "  print(\"Accuracy of \",col , \" is: \" ,accuracy)\n",
        "  print(\"F1-score of\",col , \" is: \" ,f1)\n",
        "  print(\"Recall of\",col , \" is: \" ,recall)\n",
        "  print(\"Precision of\",col , \" is: \" ,precision)\n",
        "\n",
        "# Plot the confusion matrix\n",
        "def plot_confusion(prediction, actual, col):\n",
        "  cm = confusion_matrix(actual[col], prediction[col])\n",
        "  classes = [col]\n",
        "  plt.figure(figsize=(4, 2))\n",
        "  sns.heatmap(cm, annot=True, fmt='d', cmap='Blues')\n",
        "  plt.xlabel('Predicted Labels')\n",
        "  plt.ylabel('True Labels')\n",
        "  plt.title('Confusion Matrix of '+ col)\n",
        "  plt.show()\n"
      ],
      "metadata": {
        "id": "N0Noqttn3X6B"
      },
      "execution_count": 199,
      "outputs": []
    },
    {
      "cell_type": "code",
      "source": [
        "num_classes = 6\n",
        "epochs = 10\n",
        "batch_size = 128"
      ],
      "metadata": {
        "id": "9mWxxK6-cRja"
      },
      "execution_count": 184,
      "outputs": []
    },
    {
      "cell_type": "markdown",
      "source": [
        "Function for defining LSTM model"
      ],
      "metadata": {
        "id": "V9PsV8DfHdHU"
      }
    },
    {
      "cell_type": "code",
      "source": [
        "def lstmModel():\n",
        "  inp=Input(shape=(maxpadlen, ),dtype='int32')\n",
        "  embedding_layer = Embedding(input_dim=sentence_embeddings.shape[0],  # Number of words in the vocabulary\n",
        "                            output_dim=sentence_embeddings.shape[1],  # Size of the embeddings\n",
        "                            weights=[sentence_embeddings],  # Use the loaded embeddings\n",
        "                            input_length=maxpadlen,\n",
        "                            trainable=False)  # Freeze the embeddings\n",
        "  embedded_sequences = embedding_layer(inp)\n",
        "  x = LSTM(50, return_sequences=True,name='lstm_layer')(embedded_sequences)\n",
        "  x = GlobalMaxPool1D()(x)\n",
        "  x = Dropout(0.2)(x)\n",
        "  x = Dense(40, activation=\"relu\", kernel_initializer='he_uniform')(x)\n",
        "  x = Dropout(0.2)(x)\n",
        "  preds = Dense(6, activation=\"sigmoid\", kernel_initializer='glorot_uniform')(x)\n",
        "\n",
        "  #Compile the Model.\n",
        "  lstm_model = Model(inputs=inp, outputs=preds)\n",
        "\n",
        "  lstm_model.compile(loss='binary_crossentropy',\n",
        "                  optimizer='adam',\n",
        "                  metrics=['accuracy'])\n",
        "  return lstm_model\n",
        "\n"
      ],
      "metadata": {
        "id": "hET2sYqTfA2y"
      },
      "execution_count": 168,
      "outputs": []
    },
    {
      "cell_type": "code",
      "source": [
        "model = lstmModel()"
      ],
      "metadata": {
        "id": "2t5xdEJGaJuX"
      },
      "execution_count": 181,
      "outputs": []
    },
    {
      "cell_type": "code",
      "source": [
        "model.summary()"
      ],
      "metadata": {
        "colab": {
          "base_uri": "https://localhost:8080/"
        },
        "id": "EFhfJH-wwFSg",
        "outputId": "6baf39f0-568f-4f55-9959-4543378fc784"
      },
      "execution_count": 175,
      "outputs": [
        {
          "output_type": "stream",
          "name": "stdout",
          "text": [
            "Model: \"model_6\"\n",
            "_________________________________________________________________\n",
            " Layer (type)                Output Shape              Param #   \n",
            "=================================================================\n",
            " input_7 (InputLayer)        [(None, 500)]             0         \n",
            "                                                                 \n",
            " embedding_6 (Embedding)     (None, 500, 384)          61275264  \n",
            "                                                                 \n",
            " lstm_layer (LSTM)           (None, 500, 50)           87000     \n",
            "                                                                 \n",
            " global_max_pooling1d_6 (Glo  (None, 50)               0         \n",
            " balMaxPooling1D)                                                \n",
            "                                                                 \n",
            " dropout_13 (Dropout)        (None, 50)                0         \n",
            "                                                                 \n",
            " dense_13 (Dense)            (None, 40)                2040      \n",
            "                                                                 \n",
            " dropout_14 (Dropout)        (None, 40)                0         \n",
            "                                                                 \n",
            " dense_14 (Dense)            (None, 6)                 246       \n",
            "                                                                 \n",
            "=================================================================\n",
            "Total params: 61,364,550\n",
            "Trainable params: 89,286\n",
            "Non-trainable params: 61,275,264\n",
            "_________________________________________________________________\n"
          ]
        }
      ]
    },
    {
      "cell_type": "code",
      "source": [
        "plot_model(model, show_shapes=True)"
      ],
      "metadata": {
        "id": "L_qn8QVHdNyb"
      },
      "execution_count": null,
      "outputs": []
    },
    {
      "cell_type": "code",
      "source": [
        "# Training the LSTM model\n",
        "\n",
        "import mlflow.keras\n",
        "\n",
        "mlflow.end_run()\n",
        "def train_model(model, name):\n",
        "  with mlflow.start_run():\n",
        "    mlflow.keras.autolog()\n",
        "    history = model.fit(X_train,y_train, epochs=epochs, batch_size=batch_size,  validation_split = 0.2)\n",
        "    # model.save('/content/drive/MyDrive/Colab Notebooks/Toxic_comments_models/' + name)\n",
        "    y_pred = model.predict(X_test)\n",
        "    # y_pred_labels = (y_pred > threshold).astype(int)\n",
        "\n",
        "    accuracy, f1, recall, precision = overall_eval(y_test, y_pred)\n",
        "    # accuracy, f1, recall, precision, overall_auc = overal_eval(y_test, y_pred)\n",
        "\n",
        "    mlflow.log_param(\"Model\", name)\n",
        "    mlflow.log_metric(\"Accuracy\", accuracy)\n",
        "    mlflow.log_metric(\"F1_score\", f1)\n",
        "    mlflow.log_metric(\"Recall\", recall)\n",
        "    mlflow.log_metric(\"Precision\", precision)\n",
        "    # mlflow.log_metric(\"Overall AUC\", overall_auc)\n",
        "    mlflow.log_artifact('precision_recall.png')\n",
        "    plt.close()\n",
        "\n",
        "  return history"
      ],
      "metadata": {
        "id": "WM7hcglFdRqn"
      },
      "execution_count": 182,
      "outputs": []
    },
    {
      "cell_type": "code",
      "source": [
        "history = train_model(model, \"LSTM model\")"
      ],
      "metadata": {
        "colab": {
          "base_uri": "https://localhost:8080/",
          "height": 718
        },
        "id": "mUQqMawI0Ifq",
        "outputId": "bb54a1c6-7260-4910-b45c-fb33c8eaac33"
      },
      "execution_count": 183,
      "outputs": [
        {
          "output_type": "stream",
          "name": "stdout",
          "text": [
            "998/998 [==============================] - 37s 35ms/step - loss: 0.1398 - accuracy: 0.8258 - val_loss: 0.0889 - val_accuracy: 0.9941\n",
            "1/1 [==============================] - 0s 347ms/step\n"
          ]
        },
        {
          "output_type": "stream",
          "name": "stderr",
          "text": [
            "WARNING:absl:Found untraced functions such as lstm_cell_18_layer_call_fn, lstm_cell_18_layer_call_and_return_conditional_losses while saving (showing 2 of 2). These functions will not be directly callable after loading.\n",
            "2023/08/03 15:23:14 WARNING mlflow.utils.requirements_utils: Found jaxlib version (0.4.13+cuda11.cudnn86) contains a local version label (+cuda11.cudnn86). MLflow logged a pip requirement for this package as 'jaxlib==0.4.13' without the local version label to make it installable from PyPI. To specify pip requirements containing local version labels, please use `conda_env` or `pip_requirements`.\n"
          ]
        },
        {
          "output_type": "stream",
          "name": "stdout",
          "text": [
            "2000/2000 [==============================] - 19s 9ms/step\n"
          ]
        },
        {
          "output_type": "stream",
          "name": "stderr",
          "text": [
            "<ipython-input-178-def8f1032b5b>:8: RuntimeWarning: invalid value encountered in true_divide\n",
            "  f1_scores = 2 * (precision * recall) / (precision + recall)\n",
            "<ipython-input-178-def8f1032b5b>:8: RuntimeWarning: invalid value encountered in true_divide\n",
            "  f1_scores = 2 * (precision * recall) / (precision + recall)\n",
            "<ipython-input-178-def8f1032b5b>:8: RuntimeWarning: invalid value encountered in true_divide\n",
            "  f1_scores = 2 * (precision * recall) / (precision + recall)\n"
          ]
        },
        {
          "output_type": "display_data",
          "data": {
            "text/plain": [
              "<Figure size 1000x500 with 6 Axes>"
            ],
            "image/png": "[encoded data removed]"
          },
          "metadata": {}
        }
      ]
    },
    {
      "cell_type": "markdown",
      "source": [
        "Plotting train vs test"
      ],
      "metadata": {
        "id": "H4btZvPwEMk7"
      }
    },
    {
      "cell_type": "code",
      "source": [
        "def plot_graph(history):\n",
        "  plt.plot(history.history[\"accuracy\"], label = \"accuracy\")\n",
        "  plt.plot(history.history[\"val_accuracy\"], label = \"val_accuracy\")\n",
        "  plt.title(\"ACCURACY\")\n",
        "  plt.legend()\n",
        "  plt.show()\n",
        "  plt.plot(history.history[\"loss\"], label = \"loss\")\n",
        "  plt.plot(history.history[\"val_loss\"], label = \"val_loss\")\n",
        "  plt.title(\"LOSS\")\n",
        "  plt.legend()\n",
        "  plt.show()\n",
        "\n",
        "plot_graph(history)"
      ],
      "metadata": {
        "id": "-cARVgUdEL_B"
      },
      "execution_count": null,
      "outputs": []
    },
    {
      "cell_type": "markdown",
      "source": [
        "Individual Level evaluations\n"
      ],
      "metadata": {
        "id": "WIlpsIw_Bepf"
      }
    },
    {
      "cell_type": "code",
      "source": [
        "y_pred = model.predict(X_test)\n",
        "class_names = ['toxic', 'severe_toxic', 'obscene', 'threat', 'insult', 'identity_hate']\n",
        "y_test_df = pd.DataFrame(y_test, columns=class_names)\n",
        "y_pred_df = pd.DataFrame(y_pred, columns=class_names)\n",
        "\n",
        "best_threshold = threshold_calculation(class_names, y_test_df, y_pred_df)\n",
        "\n",
        "y_pred = convert_to_binary_predictions(y_pred_df, best_threshold)\n",
        "\n",
        "for col in class_names:\n",
        "    evaluation(prediction=y_pred, actual=y_test_df, col=col)\n",
        "    print('\\n')\n",
        "\n",
        "for col in class_names:\n",
        "    plot_confusion(prediction=y_pred, actual=y_test_df, col=col)\n",
        "    print('\\n')"
      ],
      "metadata": {
        "id": "Ik_NTrLQBhls"
      },
      "execution_count": null,
      "outputs": []
    },
    {
      "cell_type": "markdown",
      "source": [
        "Making predictions"
      ],
      "metadata": {
        "id": "J_UdV3UH6ass"
      }
    },
    {
      "cell_type": "code",
      "source": [
        "input_text = \"you are a stupid\"\n",
        "processed_input_text = []\n",
        "processed_input_text.append(remove_stopwords(input_text))\n",
        "input_text = tokenization(processed_input_text)\n",
        "model.predict(input_text)"
      ],
      "metadata": {
        "colab": {
          "base_uri": "https://localhost:8080/",
          "height": 235
        },
        "id": "0OpPE-gGOnNq",
        "outputId": "e16c0cdc-30f8-4016-9d2d-856bf20f2844"
      },
      "execution_count": 1,
      "outputs": [
        {
          "output_type": "error",
          "ename": "NameError",
          "evalue": "ignored",
          "traceback": [
            "\u001b[0;31m---------------------------------------------------------------------------\u001b[0m",
            "\u001b[0;31mNameError\u001b[0m                                 Traceback (most recent call last)",
            "\u001b[0;32m<ipython-input-1-25c69390edfe>\u001b[0m in \u001b[0;36m<cell line: 3>\u001b[0;34m()\u001b[0m\n\u001b[1;32m      1\u001b[0m \u001b[0minput_text\u001b[0m \u001b[0;34m=\u001b[0m \u001b[0;34m\"you are a stupid\"\u001b[0m\u001b[0;34m\u001b[0m\u001b[0;34m\u001b[0m\u001b[0m\n\u001b[1;32m      2\u001b[0m \u001b[0mprocessed_input_text\u001b[0m \u001b[0;34m=\u001b[0m \u001b[0;34m[\u001b[0m\u001b[0;34m]\u001b[0m\u001b[0;34m\u001b[0m\u001b[0;34m\u001b[0m\u001b[0m\n\u001b[0;32m----> 3\u001b[0;31m \u001b[0mprocessed_input_text\u001b[0m\u001b[0;34m.\u001b[0m\u001b[0mappend\u001b[0m\u001b[0;34m(\u001b[0m\u001b[0mremove_stopwords\u001b[0m\u001b[0;34m(\u001b[0m\u001b[0minput_text\u001b[0m\u001b[0;34m)\u001b[0m\u001b[0;34m)\u001b[0m\u001b[0;34m\u001b[0m\u001b[0;34m\u001b[0m\u001b[0m\n\u001b[0m\u001b[1;32m      4\u001b[0m \u001b[0minput_text\u001b[0m \u001b[0;34m=\u001b[0m \u001b[0mtokenization\u001b[0m\u001b[0;34m(\u001b[0m\u001b[0mprocessed_input_text\u001b[0m\u001b[0;34m)\u001b[0m\u001b[0;34m\u001b[0m\u001b[0;34m\u001b[0m\u001b[0m\n\u001b[1;32m      5\u001b[0m \u001b[0mmodel\u001b[0m\u001b[0;34m.\u001b[0m\u001b[0mpredict\u001b[0m\u001b[0;34m(\u001b[0m\u001b[0minput_text\u001b[0m\u001b[0;34m)\u001b[0m\u001b[0;34m\u001b[0m\u001b[0;34m\u001b[0m\u001b[0m\n",
            "\u001b[0;31mNameError\u001b[0m: name 'remove_stopwords' is not defined"
          ]
        }
      ]
    },
    {
      "cell_type": "markdown",
      "source": [
        "Loading saved model from mlflow"
      ],
      "metadata": {
        "id": "WcfB8RCWIaMj"
      }
    },
    {
      "cell_type": "code",
      "source": [
        "# keras_model = mlflow.keras.load_model(\"dbfs:/databricks/mlflow-tracking/287377935647537/ad1711f885c34bc3bdf11daf54b1b4a5/artifacts/model\")"
      ],
      "metadata": {
        "id": "hGW9yPv0HBPe"
      },
      "execution_count": 32,
      "outputs": []
    },
    {
      "cell_type": "markdown",
      "source": [
        "Creating a Bidirectional LSTM model\n"
      ],
      "metadata": {
        "id": "Gy7mJOD8IgwS"
      }
    },
    {
      "cell_type": "code",
      "source": [
        "from keras.layers import Bidirectional\n",
        "\n",
        "def BilstmModel():\n",
        "  inp=Input(shape=(maxpadlen, ),dtype='int32')\n",
        "  embedding_layer = Embedding(input_dim=sentence_embeddings.shape[0],  # Number of words in the vocabulary\n",
        "                            output_dim=sentence_embeddings.shape[1],  # Size of the embeddings\n",
        "                            weights=[sentence_embeddings],  # Use the loaded embeddings\n",
        "                            input_length=maxpadlen,\n",
        "                            trainable=False)  # Freeze the embeddings\n",
        "  embedded_sequences = embedding_layer(inp)\n",
        "  x = Bidirectional(LSTM(50, return_sequences=True,name='lstm_layer'))(embedded_sequences)\n",
        "  x = GlobalMaxPool1D()(x)\n",
        "  x = Dropout(0.2)(x)\n",
        "  x = Dense(40, activation=\"relu\", kernel_initializer='he_uniform')(x)\n",
        "  x = Dropout(0.2)(x)\n",
        "  preds = Dense(6, activation=\"sigmoid\", kernel_initializer='glorot_uniform')(x)\n",
        "\n",
        "  #Compile the Model.\n",
        "  bilstm_model = Model(inputs=inp, outputs=preds)\n",
        "\n",
        "  bilstm_model.compile(loss='binary_crossentropy',\n",
        "                  optimizer='adam',\n",
        "                  metrics=['accuracy'])\n",
        "  return bilstm_model\n",
        "\n",
        "model = BilstmModel()"
      ],
      "metadata": {
        "id": "6UXx8zRtJDTU"
      },
      "execution_count": 39,
      "outputs": []
    },
    {
      "cell_type": "code",
      "source": [
        "model.summary()"
      ],
      "metadata": {
        "id": "Mo36XpfWJXAM"
      },
      "execution_count": null,
      "outputs": []
    },
    {
      "cell_type": "code",
      "source": [
        "plot_model(model, show_shapes=True)"
      ],
      "metadata": {
        "id": "uP1zFTygJfVf"
      },
      "execution_count": null,
      "outputs": []
    },
    {
      "cell_type": "code",
      "source": [
        "history = train_model(model, \"Bidirectional LSTM model\")"
      ],
      "metadata": {
        "id": "X_C0XNn8J6zQ"
      },
      "execution_count": null,
      "outputs": []
    },
    {
      "cell_type": "code",
      "source": [
        "plot_graph(history)"
      ],
      "metadata": {
        "id": "ckTECQAVPvVi"
      },
      "execution_count": null,
      "outputs": []
    },
    {
      "cell_type": "markdown",
      "source": [
        "Defining BiLSTM+CNN model"
      ],
      "metadata": {
        "id": "xozbucSuOepW"
      }
    },
    {
      "cell_type": "code",
      "source": [
        "def Bilstm_CNNModel():\n",
        "  inp=Input(shape=(maxpadlen, ),dtype='int32')\n",
        "  embedding_layer = Embedding(input_dim=sentence_embeddings.shape[0],  # Number of words in the vocabulary\n",
        "                              output_dim=sentence_embeddings.shape[1],  # Size of the embeddings\n",
        "                              weights=[sentence_embeddings],  # Use the loaded embeddings\n",
        "                              input_length=maxpadlen,\n",
        "                              trainable=False)  # Freeze the embeddings\n",
        "  embedded_sequences = embedding_layer(inp)\n",
        "  x = Bidirectional(LSTM(50, return_sequences=True,name='lstm_layer'))(embedded_sequences)\n",
        "  x = Conv1D(filters=64, kernel_size=3, padding='same', activation='relu', kernel_initializer='he_uniform')(x)\n",
        "  # x = MaxPooling1D(3)(x)\n",
        "  x = GlobalMaxPool1D()(x)\n",
        "  # x = BatchNormalization()(x)\n",
        "  x = Dropout(0.2)(x)\n",
        "  x = Dense(40, activation=\"relu\", kernel_initializer='he_uniform')(x)\n",
        "  x = Dropout(0.2)(x)\n",
        "  x = Dense(30, activation=\"relu\", kernel_initializer='he_uniform')(x)\n",
        "  x = Dropout(0.2)(x)\n",
        "  preds = Dense(6, activation=\"sigmoid\", kernel_initializer='glorot_uniform')(x)\n",
        "\n",
        "  #Compile the Model.\n",
        "  combined_model = Model(inputs=inp, outputs=preds)\n",
        "\n",
        "  combined_model.compile(loss='binary_crossentropy',\n",
        "                  optimizer='adam',\n",
        "                  metrics=['accuracy'])\n",
        "  return combined_model\n",
        "\n",
        "model = Bilstm_CNNModel()"
      ],
      "metadata": {
        "id": "hmJ3is4RKALv"
      },
      "execution_count": 43,
      "outputs": []
    },
    {
      "cell_type": "code",
      "source": [
        "model.summary()"
      ],
      "metadata": {
        "id": "wdMNj81tPkvr"
      },
      "execution_count": null,
      "outputs": []
    },
    {
      "cell_type": "code",
      "source": [
        "plot_model(model, show_shapes=True)"
      ],
      "metadata": {
        "id": "4glMxTn5PiI9"
      },
      "execution_count": null,
      "outputs": []
    },
    {
      "cell_type": "code",
      "source": [
        "history = train_model(model, \"Combined model\")"
      ],
      "metadata": {
        "id": "VJiuJTbkPncv"
      },
      "execution_count": null,
      "outputs": []
    },
    {
      "cell_type": "code",
      "source": [
        "plot_graph(history)"
      ],
      "metadata": {
        "id": "OgDvIN8_UBB0"
      },
      "execution_count": null,
      "outputs": []
    },
    {
      "cell_type": "code",
      "source": [
        "# BiLSTM_model = mlflow.keras.load_model(\"dbfs:/databricks/mlflow-tracking/287377935647537/35afb6e6f6d248c1a14ed3304c548f58/artifacts/model\")\n",
        "# BiLSTM_model.save('/content/drive/MyDrive/Colab Notebooks/Toxic_comments_models/BiLSTM')"
      ],
      "metadata": {
        "id": "UF4D9pLOUGIu"
      },
      "execution_count": null,
      "outputs": []
    },
    {
      "cell_type": "code",
      "source": [
        "loaded = tf.keras.models.load_model(\"/content/drive/MyDrive/Colab Notebooks/Toxic_comments_models/BiLSTM\")"
      ],
      "metadata": {
        "id": "QDY4TEQmY-_D"
      },
      "execution_count": 53,
      "outputs": []
    },
    {
      "cell_type": "code",
      "source": [
        "input_text = \"Hi! I am back again! Last warning! Stop undoing my edits or die!\"\n",
        "processed_input_text = []\n",
        "processed_input_text.append(remove_stopwords(input_text))\n",
        "input_text = tokenization(processed_input_text)\n",
        "input_text\n",
        "BiLSTM_model.predict(input_text)"
      ],
      "metadata": {
        "colab": {
          "base_uri": "https://localhost:8080/"
        },
        "id": "n546wgUxYzRl",
        "outputId": "2073ce7c-fe70-4bcf-bfa7-22cc627cbc21"
      },
      "execution_count": 87,
      "outputs": [
        {
          "output_type": "stream",
          "name": "stdout",
          "text": [
            "1/1 [==============================] - 0s 38ms/step\n"
          ]
        },
        {
          "output_type": "execute_result",
          "data": {
            "text/plain": [
              "array([[0.5960075 , 0.03871097, 0.17253721, 0.08628885, 0.29329965,\n",
              "        0.09768169]], dtype=float32)"
            ]
          },
          "metadata": {},
          "execution_count": 87
        }
      ]
    },
    {
      "cell_type": "code",
      "source": [
        "input_text = \"you are a stupid\"\n",
        "processed_input_text = []\n",
        "processed_input_text.append(remove_stopwords(input_text))\n",
        "input_text = tokenization(processed_input_text)\n",
        "input_text\n",
        "BiLSTM_model.predict(input_text)\n"
      ],
      "metadata": {
        "colab": {
          "base_uri": "https://localhost:8080/"
        },
        "id": "PXIvGA_VaxXd",
        "outputId": "e83f70c3-289d-483b-823b-cd5ecaee2dea"
      },
      "execution_count": 86,
      "outputs": [
        {
          "output_type": "stream",
          "name": "stdout",
          "text": [
            "1/1 [==============================] - 0s 49ms/step\n"
          ]
        },
        {
          "output_type": "execute_result",
          "data": {
            "text/plain": [
              "array([[0.9559932 , 0.02825537, 0.62301314, 0.00639725, 0.6066191 ,\n",
              "        0.03105692]], dtype=float32)"
            ]
          },
          "metadata": {},
          "execution_count": 86
        }
      ]
    }
  ]
}